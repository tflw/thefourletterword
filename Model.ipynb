{
 "cells": [
  {
   "cell_type": "code",
   "execution_count": 1,
   "metadata": {},
   "outputs": [
    {
     "data": {
      "text/plain": [
       "LogisticRegression(C=10.0, random_state=0, solver='liblinear')"
      ]
     },
     "execution_count": 1,
     "metadata": {},
     "output_type": "execute_result"
    }
   ],
   "source": [
    "from sklearn.linear_model import LogisticRegression\n",
    "from sklearn.metrics import classification_report, confusion_matrix\n",
    "import pandas as pd\n",
    "from sklearn.feature_extraction.text import TfidfVectorizer\n",
    "from sklearn.model_selection import train_test_split\n",
    "\n",
    "#Getting training file\n",
    "\n",
    "traindata= pd.read_excel(\"tflwtraindata.xlsx\", sheet_name=\"clean_data\",nrows=18354)\n",
    "#traindata= pd.read_csv(\"tflwtraindata.csv\",nrows=1000)\n",
    "\n",
    "x_train, x_test, y_train, y_test = train_test_split(traindata['text'], traindata['is_offensive'], test_size = 0.3, random_state = 0)\n",
    "\n",
    "#vectorizing string data\n",
    "\n",
    "tfidf=TfidfVectorizer(stop_words='english',lowercase=True)\n",
    "x=tfidf.fit_transform(x_train)\n",
    "\n",
    "\n",
    "#Create a model and train it\n",
    "\n",
    "model = LogisticRegression(solver='liblinear', C=10.0, random_state=0)\n",
    "model.fit(x, y_train)\n",
    "\n",
    "\n",
    "\n",
    "\n",
    "\n",
    "\n",
    "\n",
    "# Step 4: Evaluate the model\n",
    "#p_pred = model.predict_proba(x)\n",
    "\n",
    "\n",
    "\n",
    "#joblib.dump(vectorizer, 'vectorizer.joblib')\n",
    "#joblib.dump(cclf, 'model.joblib')\n",
    "\n",
    "\n",
    "\n",
    "#testing\n",
    "# testdata= pd.read_excel(\"tflwtraindata.xlsx\", sheet_name=\"clean_data\", header=100, nrows=50)\n",
    "# texts = testdata['text'].astype(str)    ------>text header not recognized cause header command in read excel figure something else\n",
    "# testx=tfidf.fit_transform(texts)\n",
    "# testy = testdata['is_offensive']\n",
    "# model.score(testx,testy)\n",
    "# make predictions\n",
    "# yhat = model.predict(X)\n",
    "# # evaluate predictions\n",
    "# acc = accuracy_score(y, yhat)\n",
    "# print(acc)"
   ]
  },
  {
   "cell_type": "code",
   "execution_count": 2,
   "metadata": {},
   "outputs": [
    {
     "name": "stdout",
     "output_type": "stream",
     "text": [
      "0.945342291628836\n",
      "              precision    recall  f1-score   support\n",
      "\n",
      "           0       0.94      0.99      0.97      4426\n",
      "           1       0.97      0.75      0.84      1081\n",
      "\n",
      "    accuracy                           0.95      5507\n",
      "   macro avg       0.95      0.87      0.91      5507\n",
      "weighted avg       0.95      0.95      0.94      5507\n",
      "\n",
      "[[4397   29]\n",
      " [ 272  809]]\n"
     ]
    }
   ],
   "source": [
    "xtest=tfidf.transform(x_test)\n",
    "y_pred = model.predict(xtest)\n",
    "\n",
    "score = model.score(xtest, y_test)\n",
    "print(score)\n",
    "conf_m = confusion_matrix(y_test, y_pred)\n",
    "report = classification_report(y_test, y_pred)\n",
    "print(report)\n",
    "print(conf_m)"
   ]
  },
  {
   "cell_type": "code",
   "execution_count": 9,
   "metadata": {},
   "outputs": [
    {
     "name": "stdout",
     "output_type": "stream",
     "text": [
      "*/#$% why ugh \n",
      "[1]\n"
     ]
    }
   ],
   "source": [
    "import numpy as np\n",
    "from sklearn.feature_extraction.text import CountVectorizer\n",
    "#x=np.array(\"fuck off\",\"fuck\")\n",
    "#array.reshape(1, -1)\n",
    "#x.reshape(-1,1)\n",
    "# vect=CountVectorizer()\n",
    "input=\"fu**ing why ugh\".split()\n",
    "\n",
    "tin=tfidf.transform(input)\n",
    "for i in range(len(input)):\n",
    "    prediction= model.predict(tin[i])\n",
    "    if(prediction==[1]):\n",
    "        print(\"*/#$%\", end=\" \")\n",
    "    else:\n",
    "        print(input[i], end=\" \")  \n",
    "\n",
    "print()        \n",
    "\n",
    "print(model.predict(tfidf.transform([\"you son of a bitch\"])))\n",
    "\n",
    "#saving tfidfvectorizer\n",
    "#loc=open('vectorizer.obj','w')\n",
    "#pickle.dump(self.vectorizer,loc)"
   ]
  }
 ],
 "metadata": {
  "interpreter": {
   "hash": "d0777d2362d90389f693d3447653bb7e924cbaac18aa84b8dddff5e21cfbbd33"
  },
  "kernelspec": {
   "display_name": "Python 3.9.0 64-bit (system)",
   "name": "python3"
  },
  "language_info": {
   "codemirror_mode": {
    "name": "ipython",
    "version": 3
   },
   "file_extension": ".py",
   "mimetype": "text/x-python",
   "name": "python",
   "nbconvert_exporter": "python",
   "pygments_lexer": "ipython3",
   "version": "3.9.0"
  }
 },
 "nbformat": 4,
 "nbformat_minor": 4
}
