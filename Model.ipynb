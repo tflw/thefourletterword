{
 "cells": [
  {
   "cell_type": "code",
   "execution_count": 2,
   "source": [
    "from sklearn.linear_model import LogisticRegression\r\n",
    "from sklearn.metrics import classification_report, confusion_matrix\r\n",
    "import pandas as pd\r\n",
    "from sklearn.feature_extraction.text import TfidfVectorizer\r\n",
    "from sklearn.model_selection import train_test_split\r\n",
    "\r\n",
    "\r\n",
    "#from sklearn.externals import joblib\r\n",
    "\r\n",
    "#Getting training file\r\n",
    "\r\n",
    "\r\n",
    "traindata= pd.read_excel(\"tflwtraindata.xlsx\", sheet_name=\"clean_data\",nrows=18354)\r\n",
    "#traindata= pd.read_csv(\"tflwtraindata.csv\",nrows=1000)\r\n",
    "x_train, x_test, y_train, y_test = train_test_split(traindata['text'], traindata['is_offensive'], test_size = 0.3, random_state = 0)\r\n",
    "\r\n",
    "#speech = traindata['text'].astype(str)\r\n",
    "\r\n",
    "#vectorizing string data\r\n",
    "tfidf=TfidfVectorizer(stop_words='english',lowercase=True)\r\n",
    "x=tfidf.fit_transform(x_train)\r\n",
    "# y = traindata['is_offensive']\r\n",
    "\r\n",
    "# Step 3: Create a model and train it\r\n",
    "model = LogisticRegression(solver='liblinear', C=10.0, random_state=0)\r\n",
    "model.fit(x, y_train)\r\n",
    "#, C=10.0, random_state=0\r\n",
    "# Step 4: Evaluate the model\r\n",
    "#p_pred = model.predict_proba(x)\r\n",
    "\r\n",
    "\r\n",
    "\r\n",
    "#joblib.dump(vectorizer, 'vectorizer.joblib')\r\n",
    "#joblib.dump(cclf, 'model.joblib')\r\n",
    "\r\n",
    "\r\n",
    "\r\n",
    "#testing\r\n",
    "# testdata= pd.read_excel(\"tflwtraindata.xlsx\", sheet_name=\"clean_data\", header=100, nrows=50)\r\n",
    "# texts = testdata['text'].astype(str)    ------>text header not recognized cause header command in read excel figure something else\r\n",
    "# testx=tfidf.fit_transform(texts)\r\n",
    "# testy = testdata['is_offensive']\r\n",
    "# model.score(testx,testy)\r\n",
    "# make predictions\r\n",
    "# yhat = model.predict(X)\r\n",
    "# # evaluate predictions\r\n",
    "# acc = accuracy_score(y, yhat)\r\n",
    "# print(acc)"
   ],
   "outputs": [
    {
     "output_type": "execute_result",
     "data": {
      "text/plain": [
       "LogisticRegression(C=10.0, random_state=0, solver='liblinear')"
      ]
     },
     "metadata": {},
     "execution_count": 2
    }
   ],
   "metadata": {}
  },
  {
   "cell_type": "code",
   "execution_count": 3,
   "source": [
    "xtest=tfidf.transform(x_test)\r\n",
    "y_pred = model.predict(xtest)\r\n",
    "\r\n",
    "score = model.score(xtest, y_test)\r\n",
    "print(score)\r\n",
    "conf_m = confusion_matrix(y_test, y_pred)\r\n",
    "report = classification_report(y_test, y_pred)\r\n",
    "print(report)\r\n",
    "print(conf_m)"
   ],
   "outputs": [
    {
     "output_type": "stream",
     "name": "stdout",
     "text": [
      "0.945342291628836\n",
      "              precision    recall  f1-score   support\n",
      "\n",
      "           0       0.94      0.99      0.97      4426\n",
      "           1       0.97      0.75      0.84      1081\n",
      "\n",
      "    accuracy                           0.95      5507\n",
      "   macro avg       0.95      0.87      0.91      5507\n",
      "weighted avg       0.95      0.95      0.94      5507\n",
      "\n",
      "[[4397   29]\n",
      " [ 272  809]]\n"
     ]
    }
   ],
   "metadata": {}
  },
  {
   "cell_type": "code",
   "execution_count": 13,
   "source": [
    "import numpy as np\r\n",
    "from sklearn.feature_extraction.text import CountVectorizer\r\n",
    "#x=np.array(\"fuck off\",\"fuck\")\r\n",
    "#array.reshape(1, -1)\r\n",
    "#x.reshape(-1,1)\r\n",
    "# vect=CountVectorizer()\r\n",
    "input=\"she is gonna be riding my all night\".split()\r\n",
    "\r\n",
    "tin=tfidf.transform(input)\r\n",
    "for i in range(len(input)):\r\n",
    "    prediction= model.predict(tin[i])\r\n",
    "    if(prediction==[1]):\r\n",
    "        print(\"*/#$%\")\r\n",
    "    else:\r\n",
    "        print(input[i])  \r\n",
    "\r\n",
    "print(model.predict(tfidf.transform([\"hey jeet fuck offf\"])))\r\n",
    "\r\n",
    "#saving tfidfvectorizer\r\n",
    "#loc=open('vectorizer.obj','w')\r\n",
    "#pickle.dump(self.vectorizer,loc)"
   ],
   "outputs": [
    {
     "output_type": "stream",
     "name": "stdout",
     "text": [
      "she\n",
      "is\n",
      "*/#$%\n",
      "be\n",
      "riding\n",
      "my\n",
      "all\n",
      "night\n",
      "[1]\n"
     ]
    }
   ],
   "metadata": {}
  }
 ],
 "metadata": {
  "kernelspec": {
   "name": "python3",
   "display_name": "Python 3.9.0 64-bit (system)"
  },
  "language_info": {
   "codemirror_mode": {
    "name": "ipython",
    "version": 3
   },
   "file_extension": ".py",
   "mimetype": "text/x-python",
   "name": "python",
   "nbconvert_exporter": "python",
   "pygments_lexer": "ipython3",
   "version": "3.9.0"
  },
  "interpreter": {
   "hash": "d0777d2362d90389f693d3447653bb7e924cbaac18aa84b8dddff5e21cfbbd33"
  }
 },
 "nbformat": 4,
 "nbformat_minor": 4
}